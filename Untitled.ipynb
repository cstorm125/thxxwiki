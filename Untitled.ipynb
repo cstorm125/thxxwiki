{
 "cells": [
  {
   "cell_type": "code",
   "execution_count": 4,
   "metadata": {},
   "outputs": [
    {
     "name": "stderr",
     "output_type": "stream",
     "text": [
      "/data-mount/home/cstorm125/venv_gpu/lib/python3.6/site-packages/pandas/compat/__init__.py:117: UserWarning: Could not import the lzma module. Your installed Python is incomplete. Attempting to use lzma compression will result in a RuntimeError.\n",
      "  warnings.warn(msg)\n"
     ]
    }
   ],
   "source": [
    "import json\n",
    "import pandas as pd\n",
    "import glob\n",
    "import re\n",
    "import tqdm\n",
    "import dill"
   ]
  },
  {
   "cell_type": "code",
   "execution_count": 5,
   "metadata": {},
   "outputs": [],
   "source": [
    "with open('data/thwiki_titles.pkl','rb') as f: thwiki_titles = dill.load(f)\n",
    "with open('data/enwiki_titles.pkl','rb') as f: enwiki_titles = dill.load(f)"
   ]
  },
  {
   "cell_type": "code",
   "execution_count": 6,
   "metadata": {},
   "outputs": [
    {
     "data": {
      "text/plain": [
       "(136452, 6047512)"
      ]
     },
     "execution_count": 6,
     "metadata": {},
     "output_type": "execute_result"
    }
   ],
   "source": [
    "len(thwiki_titles),len(enwiki_titles)"
   ]
  },
  {
   "cell_type": "code",
   "execution_count": 7,
   "metadata": {},
   "outputs": [
    {
     "name": "stdout",
     "output_type": "stream",
     "text": [
      "(50000, 512) (50000, 512) (50000, 50000)\n",
      "CPU times: user 29.7 s, sys: 3.26 s, total: 33 s\n",
      "Wall time: 24.6 s\n"
     ]
    }
   ],
   "source": [
    "import tensorflow_hub as hub\n",
    "import tensorflow_text\n",
    "import tensorflow as tf #tensorflow 2.1.0\n",
    "\n",
    "def match_sentences(lang1_sentences, lang2_sentences, model):\n",
    "    embedding_1 = model(lang1_sentences)\n",
    "    embedding_2 = model(lang2_sentences)\n",
    "    distance_matrix_12 = tf.matmul(embedding_1, embedding_2, transpose_b=True)\n",
    "    print(embedding_1.shape, embedding_2.shape, distance_matrix_12.shape)\n",
    "    best_distances = tf.argmax(distance_matrix_12, axis=1).numpy()\n",
    "    \n",
    "    matched_sentences_lang2 = []\n",
    "    scores = []\n",
    "    for i, lang2_idx in enumerate(best_distances):\n",
    "        score = distance_matrix_12[i][lang2_idx].numpy()\n",
    "        scores.append(score)\n",
    "        matched_sentences_lang2.append(lang2_sentences[lang2_idx])\n",
    "    return matched_sentences_lang2, scores\n",
    "\n",
    "bs = 50000\n",
    "_model = hub.load('https://tfhub.dev/google/universal-sentence-encoder-multilingual/3')\n",
    "%time m = match_sentences(thwiki_titles[:bs],enwiki_titles[:bs],_model)"
   ]
  },
  {
   "cell_type": "code",
   "execution_count": 5,
   "metadata": {},
   "outputs": [
    {
     "name": "stderr",
     "output_type": "stream",
     "text": [
      "/data-mount/home/cstorm125/venv_gpu/lib/python3.6/site-packages/ipykernel_launcher.py:3: TqdmDeprecationWarning: This function will be removed in tqdm==5.0.0\n",
      "Please use `tqdm.notebook.tqdm` instead of `tqdm.tqdm_notebook`\n",
      "  This is separate from the ipykernel package so we can avoid doing imports until\n"
     ]
    },
    {
     "data": {
      "application/vnd.jupyter.widget-view+json": {
       "model_id": "0713f3263ea1450c8834ae11617f17ae",
       "version_major": 2,
       "version_minor": 0
      },
      "text/plain": [
       "HBox(children=(FloatProgress(value=0.0, max=2.0), HTML(value='')))"
      ]
     },
     "metadata": {},
     "output_type": "display_data"
    },
    {
     "name": "stderr",
     "output_type": "stream",
     "text": [
      "/data-mount/home/cstorm125/venv_gpu/lib/python3.6/site-packages/ipykernel_launcher.py:5: TqdmDeprecationWarning: This function will be removed in tqdm==5.0.0\n",
      "Please use `tqdm.notebook.tqdm` instead of `tqdm.tqdm_notebook`\n",
      "  \"\"\"\n"
     ]
    },
    {
     "data": {
      "application/vnd.jupyter.widget-view+json": {
       "model_id": "582edd7d951d4dd3be08c01ebc3ac5e5",
       "version_major": 2,
       "version_minor": 0
      },
      "text/plain": [
       "HBox(children=(FloatProgress(value=0.0, max=120.0), HTML(value='')))"
      ]
     },
     "metadata": {},
     "output_type": "display_data"
    },
    {
     "name": "stdout",
     "output_type": "stream",
     "text": [
      "(50000, 512) (50000, 512) (50000, 50000)\n",
      "(50000, 512) (50000, 512) (50000, 50000)\n",
      "(50000, 512) (50000, 512) (50000, 50000)\n",
      "(50000, 512) (50000, 512) (50000, 50000)\n",
      "(50000, 512) (50000, 512) (50000, 50000)\n",
      "(50000, 512) (50000, 512) (50000, 50000)\n",
      "(50000, 512) (50000, 512) (50000, 50000)\n",
      "(50000, 512) (50000, 512) (50000, 50000)\n",
      "(50000, 512) (50000, 512) (50000, 50000)\n",
      "(50000, 512) (50000, 512) (50000, 50000)\n",
      "(50000, 512) (50000, 512) (50000, 50000)\n",
      "(50000, 512) (50000, 512) (50000, 50000)\n",
      "(50000, 512) (50000, 512) (50000, 50000)\n",
      "(50000, 512) (50000, 512) (50000, 50000)\n",
      "(50000, 512) (50000, 512) (50000, 50000)\n",
      "(50000, 512) (50000, 512) (50000, 50000)\n",
      "(50000, 512) (50000, 512) (50000, 50000)\n",
      "(50000, 512) (50000, 512) (50000, 50000)\n",
      "(50000, 512) (50000, 512) (50000, 50000)\n",
      "(50000, 512) (50000, 512) (50000, 50000)\n",
      "(50000, 512) (50000, 512) (50000, 50000)\n",
      "(50000, 512) (50000, 512) (50000, 50000)\n",
      "(50000, 512) (50000, 512) (50000, 50000)\n",
      "(50000, 512) (50000, 512) (50000, 50000)\n",
      "(50000, 512) (50000, 512) (50000, 50000)\n",
      "(50000, 512) (50000, 512) (50000, 50000)\n",
      "(50000, 512) (50000, 512) (50000, 50000)\n",
      "(50000, 512) (50000, 512) (50000, 50000)\n",
      "(50000, 512) (50000, 512) (50000, 50000)\n",
      "(50000, 512) (50000, 512) (50000, 50000)\n",
      "(50000, 512) (50000, 512) (50000, 50000)\n",
      "(50000, 512) (50000, 512) (50000, 50000)\n",
      "(50000, 512) (50000, 512) (50000, 50000)\n",
      "(50000, 512) (50000, 512) (50000, 50000)\n",
      "(50000, 512) (50000, 512) (50000, 50000)\n",
      "(50000, 512) (50000, 512) (50000, 50000)\n",
      "(50000, 512) (50000, 512) (50000, 50000)\n",
      "(50000, 512) (50000, 512) (50000, 50000)\n",
      "(50000, 512) (50000, 512) (50000, 50000)\n",
      "(50000, 512) (50000, 512) (50000, 50000)\n",
      "(50000, 512) (50000, 512) (50000, 50000)\n",
      "(50000, 512) (50000, 512) (50000, 50000)\n",
      "(50000, 512) (50000, 512) (50000, 50000)\n",
      "(50000, 512) (50000, 512) (50000, 50000)\n",
      "(50000, 512) (50000, 512) (50000, 50000)\n",
      "(50000, 512) (50000, 512) (50000, 50000)\n",
      "(50000, 512) (50000, 512) (50000, 50000)\n",
      "(50000, 512) (50000, 512) (50000, 50000)\n",
      "(50000, 512) (50000, 512) (50000, 50000)\n",
      "(50000, 512) (50000, 512) (50000, 50000)\n",
      "(50000, 512) (50000, 512) (50000, 50000)\n",
      "(50000, 512) (50000, 512) (50000, 50000)\n",
      "(50000, 512) (50000, 512) (50000, 50000)\n",
      "(50000, 512) (50000, 512) (50000, 50000)\n",
      "(50000, 512) (50000, 512) (50000, 50000)\n",
      "(50000, 512) (50000, 512) (50000, 50000)\n",
      "(50000, 512) (50000, 512) (50000, 50000)\n",
      "(50000, 512) (50000, 512) (50000, 50000)\n",
      "(50000, 512) (50000, 512) (50000, 50000)\n",
      "(50000, 512) (50000, 512) (50000, 50000)\n",
      "(50000, 512) (50000, 512) (50000, 50000)\n",
      "(50000, 512) (50000, 512) (50000, 50000)\n",
      "(50000, 512) (50000, 512) (50000, 50000)\n",
      "(50000, 512) (50000, 512) (50000, 50000)\n",
      "(50000, 512) (50000, 512) (50000, 50000)\n",
      "(50000, 512) (50000, 512) (50000, 50000)\n",
      "(50000, 512) (50000, 512) (50000, 50000)\n",
      "(50000, 512) (50000, 512) (50000, 50000)\n",
      "(50000, 512) (50000, 512) (50000, 50000)\n",
      "(50000, 512) (50000, 512) (50000, 50000)\n",
      "(50000, 512) (50000, 512) (50000, 50000)\n",
      "(50000, 512) (50000, 512) (50000, 50000)\n",
      "(50000, 512) (50000, 512) (50000, 50000)\n",
      "(50000, 512) (50000, 512) (50000, 50000)\n",
      "(50000, 512) (50000, 512) (50000, 50000)\n",
      "(50000, 512) (50000, 512) (50000, 50000)\n",
      "(50000, 512) (50000, 512) (50000, 50000)\n",
      "(50000, 512) (50000, 512) (50000, 50000)\n",
      "(50000, 512) (50000, 512) (50000, 50000)\n",
      "(50000, 512) (50000, 512) (50000, 50000)\n",
      "(50000, 512) (50000, 512) (50000, 50000)\n",
      "(50000, 512) (50000, 512) (50000, 50000)\n",
      "(50000, 512) (50000, 512) (50000, 50000)\n",
      "(50000, 512) (50000, 512) (50000, 50000)\n",
      "(50000, 512) (50000, 512) (50000, 50000)\n",
      "(50000, 512) (50000, 512) (50000, 50000)\n",
      "(50000, 512) (50000, 512) (50000, 50000)\n",
      "(50000, 512) (50000, 512) (50000, 50000)\n",
      "(50000, 512) (50000, 512) (50000, 50000)\n",
      "(50000, 512) (50000, 512) (50000, 50000)\n",
      "(50000, 512) (50000, 512) (50000, 50000)\n",
      "(50000, 512) (50000, 512) (50000, 50000)\n",
      "(50000, 512) (50000, 512) (50000, 50000)\n",
      "(50000, 512) (50000, 512) (50000, 50000)\n",
      "(50000, 512) (50000, 512) (50000, 50000)\n",
      "(50000, 512) (50000, 512) (50000, 50000)\n",
      "(50000, 512) (50000, 512) (50000, 50000)\n",
      "(50000, 512) (50000, 512) (50000, 50000)\n",
      "(50000, 512) (50000, 512) (50000, 50000)\n",
      "(50000, 512) (50000, 512) (50000, 50000)\n",
      "(50000, 512) (50000, 512) (50000, 50000)\n",
      "(50000, 512) (50000, 512) (50000, 50000)\n",
      "(50000, 512) (50000, 512) (50000, 50000)\n",
      "(50000, 512) (50000, 512) (50000, 50000)\n",
      "(50000, 512) (50000, 512) (50000, 50000)\n",
      "(50000, 512) (50000, 512) (50000, 50000)\n",
      "(50000, 512) (50000, 512) (50000, 50000)\n",
      "(50000, 512) (50000, 512) (50000, 50000)\n",
      "(50000, 512) (50000, 512) (50000, 50000)\n",
      "(50000, 512) (50000, 512) (50000, 50000)\n",
      "(50000, 512) (50000, 512) (50000, 50000)\n",
      "(50000, 512) (50000, 512) (50000, 50000)\n",
      "(50000, 512) (50000, 512) (50000, 50000)\n",
      "(50000, 512) (50000, 512) (50000, 50000)\n",
      "(50000, 512) (50000, 512) (50000, 50000)\n",
      "(50000, 512) (50000, 512) (50000, 50000)\n",
      "(50000, 512) (50000, 512) (50000, 50000)\n",
      "(50000, 512) (50000, 512) (50000, 50000)\n",
      "(50000, 512) (50000, 512) (50000, 50000)\n",
      "(50000, 512) (50000, 512) (50000, 50000)\n",
      "\n"
     ]
    },
    {
     "data": {
      "application/vnd.jupyter.widget-view+json": {
       "model_id": "3a06d8852e0846efa3697890fcf143b1",
       "version_major": 2,
       "version_minor": 0
      },
      "text/plain": [
       "HBox(children=(FloatProgress(value=0.0, max=120.0), HTML(value='')))"
      ]
     },
     "metadata": {},
     "output_type": "display_data"
    },
    {
     "name": "stdout",
     "output_type": "stream",
     "text": [
      "(50000, 512) (50000, 512) (50000, 50000)\n",
      "(50000, 512) (50000, 512) (50000, 50000)\n",
      "(50000, 512) (50000, 512) (50000, 50000)\n",
      "(50000, 512) (50000, 512) (50000, 50000)\n",
      "(50000, 512) (50000, 512) (50000, 50000)\n",
      "(50000, 512) (50000, 512) (50000, 50000)\n",
      "(50000, 512) (50000, 512) (50000, 50000)\n",
      "(50000, 512) (50000, 512) (50000, 50000)\n",
      "(50000, 512) (50000, 512) (50000, 50000)\n",
      "(50000, 512) (50000, 512) (50000, 50000)\n",
      "(50000, 512) (50000, 512) (50000, 50000)\n",
      "(50000, 512) (50000, 512) (50000, 50000)\n",
      "(50000, 512) (50000, 512) (50000, 50000)\n",
      "(50000, 512) (50000, 512) (50000, 50000)\n",
      "(50000, 512) (50000, 512) (50000, 50000)\n",
      "(50000, 512) (50000, 512) (50000, 50000)\n",
      "(50000, 512) (50000, 512) (50000, 50000)\n",
      "(50000, 512) (50000, 512) (50000, 50000)\n",
      "(50000, 512) (50000, 512) (50000, 50000)\n",
      "(50000, 512) (50000, 512) (50000, 50000)\n",
      "(50000, 512) (50000, 512) (50000, 50000)\n",
      "(50000, 512) (50000, 512) (50000, 50000)\n",
      "(50000, 512) (50000, 512) (50000, 50000)\n",
      "(50000, 512) (50000, 512) (50000, 50000)\n",
      "(50000, 512) (50000, 512) (50000, 50000)\n",
      "(50000, 512) (50000, 512) (50000, 50000)\n",
      "(50000, 512) (50000, 512) (50000, 50000)\n",
      "(50000, 512) (50000, 512) (50000, 50000)\n",
      "(50000, 512) (50000, 512) (50000, 50000)\n",
      "(50000, 512) (50000, 512) (50000, 50000)\n",
      "(50000, 512) (50000, 512) (50000, 50000)\n",
      "(50000, 512) (50000, 512) (50000, 50000)\n",
      "(50000, 512) (50000, 512) (50000, 50000)\n",
      "(50000, 512) (50000, 512) (50000, 50000)\n",
      "(50000, 512) (50000, 512) (50000, 50000)\n",
      "(50000, 512) (50000, 512) (50000, 50000)\n",
      "(50000, 512) (50000, 512) (50000, 50000)\n",
      "(50000, 512) (50000, 512) (50000, 50000)\n",
      "(50000, 512) (50000, 512) (50000, 50000)\n",
      "(50000, 512) (50000, 512) (50000, 50000)\n",
      "(50000, 512) (50000, 512) (50000, 50000)\n",
      "(50000, 512) (50000, 512) (50000, 50000)\n",
      "(50000, 512) (50000, 512) (50000, 50000)\n",
      "(50000, 512) (50000, 512) (50000, 50000)\n",
      "(50000, 512) (50000, 512) (50000, 50000)\n",
      "(50000, 512) (50000, 512) (50000, 50000)\n",
      "(50000, 512) (50000, 512) (50000, 50000)\n",
      "(50000, 512) (50000, 512) (50000, 50000)\n",
      "(50000, 512) (50000, 512) (50000, 50000)\n",
      "(50000, 512) (50000, 512) (50000, 50000)\n",
      "(50000, 512) (50000, 512) (50000, 50000)\n",
      "(50000, 512) (50000, 512) (50000, 50000)\n",
      "(50000, 512) (50000, 512) (50000, 50000)\n",
      "(50000, 512) (50000, 512) (50000, 50000)\n",
      "(50000, 512) (50000, 512) (50000, 50000)\n",
      "(50000, 512) (50000, 512) (50000, 50000)\n",
      "(50000, 512) (50000, 512) (50000, 50000)\n",
      "(50000, 512) (50000, 512) (50000, 50000)\n",
      "(50000, 512) (50000, 512) (50000, 50000)\n",
      "(50000, 512) (50000, 512) (50000, 50000)\n",
      "(50000, 512) (50000, 512) (50000, 50000)\n",
      "(50000, 512) (50000, 512) (50000, 50000)\n",
      "(50000, 512) (50000, 512) (50000, 50000)\n",
      "(50000, 512) (50000, 512) (50000, 50000)\n",
      "(50000, 512) (50000, 512) (50000, 50000)\n",
      "(50000, 512) (50000, 512) (50000, 50000)\n",
      "(50000, 512) (50000, 512) (50000, 50000)\n",
      "(50000, 512) (50000, 512) (50000, 50000)\n",
      "(50000, 512) (50000, 512) (50000, 50000)\n",
      "(50000, 512) (50000, 512) (50000, 50000)\n",
      "(50000, 512) (50000, 512) (50000, 50000)\n",
      "(50000, 512) (50000, 512) (50000, 50000)\n",
      "(50000, 512) (50000, 512) (50000, 50000)\n",
      "(50000, 512) (50000, 512) (50000, 50000)\n",
      "(50000, 512) (50000, 512) (50000, 50000)\n",
      "(50000, 512) (50000, 512) (50000, 50000)\n",
      "(50000, 512) (50000, 512) (50000, 50000)\n",
      "(50000, 512) (50000, 512) (50000, 50000)\n",
      "(50000, 512) (50000, 512) (50000, 50000)\n",
      "(50000, 512) (50000, 512) (50000, 50000)\n",
      "(50000, 512) (50000, 512) (50000, 50000)\n",
      "(50000, 512) (50000, 512) (50000, 50000)\n",
      "(50000, 512) (50000, 512) (50000, 50000)\n",
      "(50000, 512) (50000, 512) (50000, 50000)\n",
      "(50000, 512) (50000, 512) (50000, 50000)\n",
      "(50000, 512) (50000, 512) (50000, 50000)\n",
      "(50000, 512) (50000, 512) (50000, 50000)\n",
      "(50000, 512) (50000, 512) (50000, 50000)\n",
      "(50000, 512) (50000, 512) (50000, 50000)\n",
      "(50000, 512) (50000, 512) (50000, 50000)\n",
      "(50000, 512) (50000, 512) (50000, 50000)\n",
      "(50000, 512) (50000, 512) (50000, 50000)\n",
      "(50000, 512) (50000, 512) (50000, 50000)\n",
      "(50000, 512) (50000, 512) (50000, 50000)\n",
      "(50000, 512) (50000, 512) (50000, 50000)\n",
      "(50000, 512) (50000, 512) (50000, 50000)\n",
      "(50000, 512) (50000, 512) (50000, 50000)\n",
      "(50000, 512) (50000, 512) (50000, 50000)\n",
      "(50000, 512) (50000, 512) (50000, 50000)\n",
      "(50000, 512) (50000, 512) (50000, 50000)\n",
      "(50000, 512) (50000, 512) (50000, 50000)\n",
      "(50000, 512) (50000, 512) (50000, 50000)\n",
      "(50000, 512) (50000, 512) (50000, 50000)\n",
      "(50000, 512) (50000, 512) (50000, 50000)\n",
      "(50000, 512) (50000, 512) (50000, 50000)\n",
      "(50000, 512) (50000, 512) (50000, 50000)\n",
      "(50000, 512) (50000, 512) (50000, 50000)\n",
      "(50000, 512) (50000, 512) (50000, 50000)\n",
      "(50000, 512) (50000, 512) (50000, 50000)\n",
      "(50000, 512) (50000, 512) (50000, 50000)\n",
      "(50000, 512) (50000, 512) (50000, 50000)\n",
      "(50000, 512) (50000, 512) (50000, 50000)\n",
      "(50000, 512) (50000, 512) (50000, 50000)\n",
      "(50000, 512) (50000, 512) (50000, 50000)\n",
      "(50000, 512) (50000, 512) (50000, 50000)\n",
      "(50000, 512) (50000, 512) (50000, 50000)\n",
      "(50000, 512) (50000, 512) (50000, 50000)\n",
      "\n",
      "\n"
     ]
    }
   ],
   "source": [
    "dfs = []\n",
    "bs = 50000\n",
    "for i in tqdm.tqdm_notebook(range(len(thwiki_titles)//bs+1)):\n",
    "    tmps = []\n",
    "    for j in tqdm.tqdm_notebook(range(len(enwiki_titles)//bs+1)):\n",
    "        matched_sentences, scores = match_sentences(thwiki_titles[i*bs:(i+1)*bs],\\\n",
    "                                                       enwiki_titles[j*bs:(j+1)*bs], _model)\n",
    "        df = pd.DataFrame({'en_text':matched_sentences,'th_text':thwiki_titles[i*bs:(i+1)*bs],'use_score':scores})\n",
    "        tmps.append(df)\n",
    "    tmp_df = pd.concat(tmps).dropna().drop_duplicates().reset_index(drop=True)\n",
    "    tmp_df['rnk'] = tmp_df.sort_values('use_score',ascending=False).groupby('th_text').cumcount()+1\n",
    "    tmp_df = tmp_df[tmp_df.rnk==1]\n",
    "    dfs.append(tmp_df)"
   ]
  },
  {
   "cell_type": "markdown",
   "metadata": {},
   "source": [
    "## EN-TH Titles"
   ]
  },
  {
   "cell_type": "code",
   "execution_count": 43,
   "metadata": {},
   "outputs": [],
   "source": [
    "final_df = pd.read_csv('data/titles_enth_85.csv')"
   ]
  },
  {
   "cell_type": "code",
   "execution_count": 44,
   "metadata": {},
   "outputs": [
    {
     "data": {
      "text/html": [
       "<div>\n",
       "<style scoped>\n",
       "    .dataframe tbody tr th:only-of-type {\n",
       "        vertical-align: middle;\n",
       "    }\n",
       "\n",
       "    .dataframe tbody tr th {\n",
       "        vertical-align: top;\n",
       "    }\n",
       "\n",
       "    .dataframe thead th {\n",
       "        text-align: right;\n",
       "    }\n",
       "</style>\n",
       "<table border=\"1\" class=\"dataframe\">\n",
       "  <thead>\n",
       "    <tr style=\"text-align: right;\">\n",
       "      <th></th>\n",
       "      <th>en_text</th>\n",
       "      <th>th_text</th>\n",
       "      <th>use_score</th>\n",
       "      <th>rnk</th>\n",
       "    </tr>\n",
       "  </thead>\n",
       "  <tbody>\n",
       "    <tr>\n",
       "      <th>8175</th>\n",
       "      <td>1986 in the Philippines</td>\n",
       "      <td>ประเทศฟิลิปปินส์ใน ค.ศ. 1986</td>\n",
       "      <td>0.850005</td>\n",
       "      <td>1</td>\n",
       "    </tr>\n",
       "    <tr>\n",
       "      <th>1620</th>\n",
       "      <td>Bermuda at the 1988 Summer Olympics</td>\n",
       "      <td>ประเทศเบอร์มิวดาในโอลิมปิกฤดูร้อน 1988</td>\n",
       "      <td>0.850007</td>\n",
       "      <td>1</td>\n",
       "    </tr>\n",
       "    <tr>\n",
       "      <th>3770</th>\n",
       "      <td>The Three-Arched Bridge</td>\n",
       "      <td>สะพานสามหอ</td>\n",
       "      <td>0.850014</td>\n",
       "      <td>1</td>\n",
       "    </tr>\n",
       "    <tr>\n",
       "      <th>6694</th>\n",
       "      <td>Volleyball at the 2004 Summer Olympics</td>\n",
       "      <td>วอลเลย์บอลหญิงในโอลิมปิกฤดูร้อน 2004</td>\n",
       "      <td>0.850015</td>\n",
       "      <td>1</td>\n",
       "    </tr>\n",
       "    <tr>\n",
       "      <th>11770</th>\n",
       "      <td>No Love</td>\n",
       "      <td>ไม่ใช่ไม่รัก</td>\n",
       "      <td>0.850016</td>\n",
       "      <td>1</td>\n",
       "    </tr>\n",
       "    <tr>\n",
       "      <th>...</th>\n",
       "      <td>...</td>\n",
       "      <td>...</td>\n",
       "      <td>...</td>\n",
       "      <td>...</td>\n",
       "    </tr>\n",
       "    <tr>\n",
       "      <th>6455</th>\n",
       "      <td>.bh</td>\n",
       "      <td>.bh</td>\n",
       "      <td>1.000001</td>\n",
       "      <td>1</td>\n",
       "    </tr>\n",
       "    <tr>\n",
       "      <th>13407</th>\n",
       "      <td>Hypergeusia</td>\n",
       "      <td>Hypergeusia</td>\n",
       "      <td>1.000001</td>\n",
       "      <td>1</td>\n",
       "    </tr>\n",
       "    <tr>\n",
       "      <th>4902</th>\n",
       "      <td>Kinodynamic planning</td>\n",
       "      <td>Kinodynamic planning</td>\n",
       "      <td>1.000001</td>\n",
       "      <td>1</td>\n",
       "    </tr>\n",
       "    <tr>\n",
       "      <th>2911</th>\n",
       "      <td>KKND2: Krossfire</td>\n",
       "      <td>KKND2: Krossfire</td>\n",
       "      <td>1.000001</td>\n",
       "      <td>1</td>\n",
       "    </tr>\n",
       "    <tr>\n",
       "      <th>4518</th>\n",
       "      <td>Sleep spindle</td>\n",
       "      <td>Sleep spindle</td>\n",
       "      <td>1.000001</td>\n",
       "      <td>1</td>\n",
       "    </tr>\n",
       "  </tbody>\n",
       "</table>\n",
       "<p>13853 rows × 4 columns</p>\n",
       "</div>"
      ],
      "text/plain": [
       "                                      en_text  \\\n",
       "8175                  1986 in the Philippines   \n",
       "1620      Bermuda at the 1988 Summer Olympics   \n",
       "3770                  The Three-Arched Bridge   \n",
       "6694   Volleyball at the 2004 Summer Olympics   \n",
       "11770                                 No Love   \n",
       "...                                       ...   \n",
       "6455                                      .bh   \n",
       "13407                             Hypergeusia   \n",
       "4902                     Kinodynamic planning   \n",
       "2911                         KKND2: Krossfire   \n",
       "4518                            Sleep spindle   \n",
       "\n",
       "                                      th_text  use_score  rnk  \n",
       "8175             ประเทศฟิลิปปินส์ใน ค.ศ. 1986   0.850005    1  \n",
       "1620   ประเทศเบอร์มิวดาในโอลิมปิกฤดูร้อน 1988   0.850007    1  \n",
       "3770                               สะพานสามหอ   0.850014    1  \n",
       "6694     วอลเลย์บอลหญิงในโอลิมปิกฤดูร้อน 2004   0.850015    1  \n",
       "11770                            ไม่ใช่ไม่รัก   0.850016    1  \n",
       "...                                       ...        ...  ...  \n",
       "6455                                      .bh   1.000001    1  \n",
       "13407                             Hypergeusia   1.000001    1  \n",
       "4902                     Kinodynamic planning   1.000001    1  \n",
       "2911                         KKND2: Krossfire   1.000001    1  \n",
       "4518                            Sleep spindle   1.000001    1  \n",
       "\n",
       "[13853 rows x 4 columns]"
      ]
     },
     "execution_count": 44,
     "metadata": {},
     "output_type": "execute_result"
    }
   ],
   "source": [
    "final_df.sort_values('use_score')"
   ]
  },
  {
   "cell_type": "markdown",
   "metadata": {},
   "source": [
    "## Break to *.sent"
   ]
  },
  {
   "cell_type": "code",
   "execution_count": 8,
   "metadata": {},
   "outputs": [],
   "source": [
    "wiki_aligned = pd.read_csv('data/wiki_aligned.csv')"
   ]
  },
  {
   "cell_type": "code",
   "execution_count": 63,
   "metadata": {},
   "outputs": [
    {
     "name": "stderr",
     "output_type": "stream",
     "text": [
      "/data-mount/home/cstorm125/venv_gpu/lib/python3.6/site-packages/ipykernel_launcher.py:2: TqdmDeprecationWarning: This function will be removed in tqdm==5.0.0\n",
      "Please use `tqdm.notebook.tqdm` instead of `tqdm.tqdm_notebook`\n",
      "  \n"
     ]
    },
    {
     "data": {
      "application/vnd.jupyter.widget-view+json": {
       "model_id": "1b339a8312f741acb018525915b85e5e",
       "version_major": 2,
       "version_minor": 0
      },
      "text/plain": [
       "HBox(children=(FloatProgress(value=1.0, bar_style='info', max=1.0), HTML(value='')))"
      ]
     },
     "metadata": {},
     "output_type": "display_data"
    },
    {
     "name": "stdout",
     "output_type": "stream",
     "text": [
      "\n"
     ]
    }
   ],
   "source": [
    "import nltk\n",
    "for i,row in tqdm.tqdm_notebook(wiki_aligned.iterrows()):\n",
    "    es =[]\n",
    "    ts = []\n",
    "    for e in row['en_text'].split('\\n'):\n",
    "        es+=nltk.sent_tokenize(e)\n",
    "    for t in row['th_text'].split('\\n'):\n",
    "        ts+=sent_tokenize(t)\n",
    "    ts = [f'{i}\\n' for i in ts]\n",
    "    es = [f'{i}\\n' for i in es]\n",
    "    with open(f'data/en_docs/id_{i}.sent','w') as f: f.writelines(es)\n",
    "    with open(f'data/th_docs/id_{i}.sent','w') as f: f.writelines(ts)"
   ]
  },
  {
   "cell_type": "code",
   "execution_count": null,
   "metadata": {},
   "outputs": [],
   "source": []
  }
 ],
 "metadata": {
  "kernelspec": {
   "display_name": "venv_gpu",
   "language": "python",
   "name": "venv_gpu"
  },
  "language_info": {
   "codemirror_mode": {
    "name": "ipython",
    "version": 3
   },
   "file_extension": ".py",
   "mimetype": "text/x-python",
   "name": "python",
   "nbconvert_exporter": "python",
   "pygments_lexer": "ipython3",
   "version": "3.6.5"
  }
 },
 "nbformat": 4,
 "nbformat_minor": 4
}
